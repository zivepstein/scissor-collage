{
 "cells": [
  {
   "cell_type": "code",
   "execution_count": 1,
   "metadata": {
    "collapsed": true
   },
   "outputs": [],
   "source": [
    "import numpy as np\n",
    "import matplotlib.pyplot as plt\n",
    "from sklearn.cluster import KMeans\n",
    "from sklearn.metrics import pairwise_distances_argmin\n",
    "from sklearn.datasets import load_sample_image\n",
    "from sklearn.utils import shuffle\n",
    "from time import time"
   ]
  },
  {
   "cell_type": "code",
   "execution_count": 23,
   "metadata": {
    "collapsed": false
   },
   "outputs": [],
   "source": [
    "def cluster_color(img,n_colors, subsample=True):\n",
    "    img = np.array(img, dtype=np.float64) / 255\n",
    "    w, h, d = original_shape = tuple(img.shape)\n",
    "    assert d == 3\n",
    "    image_array = np.reshape(img, (w * h, d))\n",
    "    t0 = time()\n",
    "    if subsample:\n",
    "        image_array_sample = shuffle(image_array, random_state=0)[:1000]\n",
    "        kmeans = KMeans(n_clusters=n_colors, random_state=0).fit(image_array_sample)\n",
    "    else:\n",
    "        kmeans = KMeans(n_clusters=n_colors, random_state=0).fit(image_array)\n",
    "    return kmeans.cluster_centers_"
   ]
  },
  {
   "cell_type": "code",
   "execution_count": 26,
   "metadata": {
    "collapsed": false
   },
   "outputs": [
    {
     "data": {
      "text/plain": [
       "array([[ 0.00320299,  0.00223149,  0.00159811],\n",
       "       [ 0.00027109,  0.00024532,  0.00015124],\n",
       "       [ 0.00361126,  0.00370653,  0.00383227],\n",
       "       [ 0.00179287,  0.00153015,  0.00092769],\n",
       "       [ 0.0030585 ,  0.0033147 ,  0.00361078],\n",
       "       [ 0.00075519,  0.0006462 ,  0.00047753],\n",
       "       [ 0.00192618,  0.00192167,  0.00159149],\n",
       "       [ 0.00289377,  0.0030112 ,  0.00297545],\n",
       "       [ 0.00120987,  0.00112318,  0.00082136],\n",
       "       [ 0.00232629,  0.00246195,  0.00236124]])"
      ]
     },
     "execution_count": 26,
     "metadata": {},
     "output_type": "execute_result"
    }
   ],
   "source": [
    "china = load_sample_image(\"china.jpg\")\n",
    "cluster_color(china,10,subsample=False)"
   ]
  }
 ],
 "metadata": {
  "kernelspec": {
   "display_name": "Python 2",
   "language": "python",
   "name": "python2"
  },
  "language_info": {
   "codemirror_mode": {
    "name": "ipython",
    "version": 2
   },
   "file_extension": ".py",
   "mimetype": "text/x-python",
   "name": "python",
   "nbconvert_exporter": "python",
   "pygments_lexer": "ipython2",
   "version": "2.7.10"
  }
 },
 "nbformat": 4,
 "nbformat_minor": 0
}
