{
 "cells": [
  {
   "cell_type": "code",
   "execution_count": 1,
   "metadata": {
    "collapsed": true
   },
   "outputs": [],
   "source": [
    "import numpy as np\n",
    "import matplotlib.pyplot as plt\n",
    "from sklearn.cluster import KMeans\n",
    "from sklearn.metrics import pairwise_distances_argmin\n",
    "from sklearn.datasets import load_sample_image\n",
    "from sklearn.utils import shuffle\n",
    "from time import time"
   ]
  },
  {
   "cell_type": "code",
   "execution_count": 23,
   "metadata": {
    "collapsed": false
   },
   "outputs": [],
   "source": [
    "def cluster_color(img,n_colors, subsample=True):\n",
    "    img = np.array(img, dtype=np.float64) / 255\n",
    "    w, h, d = original_shape = tuple(img.shape)\n",
    "    assert d == 3\n",
    "    image_array = np.reshape(img, (w * h, d))\n",
    "    t0 = time()\n",
    "    if subsample:\n",
    "        image_array_sample = shuffle(image_array, random_state=0)[:1000]\n",
    "        kmeans = KMeans(n_clusters=n_colors, random_state=0).fit(image_array_sample)\n",
    "    else:\n",
    "        kmeans = KMeans(n_clusters=n_colors, random_state=0).fit(image_array)\n",
    "    return kmeans.cluster_centers_"
   ]
  },
  {
   "cell_type": "code",
   "execution_count": null,
   "metadata": {
    "collapsed": false
   },
   "outputs": [],
   "source": [
    "def eqsc(X, K=None, G=None):\n",
    "    \"equal-size clustering based on data exchanges between pairs of clusters\"\n",
    "    from scipy.spatial.distance import pdist, squareform\n",
    "    from matplotlib import pyplot as plt\n",
    "    from matplotlib import animation as ani    \n",
    "    from matplotlib.patches import Polygon   \n",
    "    from matplotlib.collections import PatchCollection\n",
    "    def error(K, m, D):\n",
    "        \"\"\"return average distances between data in one cluster, averaged over all clusters\"\"\"\n",
    "        E = 0\n",
    "        for k in range(K):\n",
    "            i = np.where(m == k)[0] # indeces of datapoints belonging to class k\n",
    "            E += np.mean(D[np.meshgrid(i,i)])\n",
    "        return E / K\n",
    "    np.random.seed(0) # repeatability\n",
    "    N, n = X.shape\n",
    "    if G is None and K is not None:\n",
    "        G = N // K # group size\n",
    "    elif K is None and G is not None:\n",
    "        K = N // G # number of clusters\n",
    "    else:\n",
    "        raise Exception('must specify either K or G')\n",
    "    D = squareform(pdist(X)) # distance matrix\n",
    "    m = np.random.permutation(N) % K # initial membership\n",
    "    E = error(K, m, D)\n",
    "    # visualization\n",
    "    #FFMpegWriter = ani.writers['ffmpeg']\n",
    "    #writer = FFMpegWriter(fps=15)\n",
    "    #fig = plt.figure()\n",
    "    #with writer.saving(fig, \"ec.mp4\", 100):\n",
    "    t = 1\n",
    "    while True:\n",
    "        E_p = E\n",
    "        for a in range(N): # systematically\n",
    "            for b in range(a):\n",
    "                m[a], m[b] = m[b], m[a] # exchange membership\n",
    "                E_t = error(K, m, D)\n",
    "                if E_t < E:\n",
    "                    E = E_t\n",
    "                    print(\"{}: {}<->{} E={}\".format(t, a, b, E))\n",
    "                    #plt.clf()\n",
    "                    #for i in range(N):\n",
    "                        #plt.text(X[i,0], X[i,1], m[i])\n",
    "                    #writer.grab_frame()\n",
    "                else:\n",
    "                    m[a], m[b] = m[b], m[a] # put them back\n",
    "        if E_p == E:\n",
    "            break\n",
    "        t += 1           \n",
    "    fig, ax = plt.subplots()\n",
    "    patches = []\n",
    "    for k in range(K):\n",
    "        i = np.where(m == k)[0] # indeces of datapoints belonging to class k\n",
    "        x = X[i]        \n",
    "        patches.append(Polygon(x[:,:2], True)) # how to draw this clock-wise?\n",
    "        u = np.mean(x, 0)\n",
    "        plt.text(u[0], u[1], k)\n",
    "    p = PatchCollection(patches, alpha=0.5)        \n",
    "    ax.add_collection(p)\n",
    "    plt.show()\n",
    "\n",
    "if __name__ == \"__main__\":\n",
    "    N, n = 100, 2    \n",
    "    X = np.random.rand(N, n)\n",
    "    eqsc(X, G=3)"
   ]
  },
  {
   "cell_type": "code",
   "execution_count": null,
   "metadata": {
    "collapsed": true
   },
   "outputs": [],
   "source": [
    "eqsc(X, G=3)"
   ]
  },
  {
   "cell_type": "code",
   "execution_count": null,
   "metadata": {
    "collapsed": true
   },
   "outputs": [],
   "source": []
  }
 ],
 "metadata": {
  "kernelspec": {
   "display_name": "Python 2",
   "language": "python",
   "name": "python2"
  },
  "language_info": {
   "codemirror_mode": {
    "name": "ipython",
    "version": 2
   },
   "file_extension": ".py",
   "mimetype": "text/x-python",
   "name": "python",
   "nbconvert_exporter": "python",
   "pygments_lexer": "ipython2",
   "version": "2.7.10"
  }
 },
 "nbformat": 4,
 "nbformat_minor": 0
}
