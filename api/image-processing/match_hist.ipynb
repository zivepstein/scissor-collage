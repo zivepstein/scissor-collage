{
 "cells": [
  {
   "cell_type": "code",
   "execution_count": 1,
   "metadata": {
    "collapsed": false
   },
   "outputs": [],
   "source": [
    "from matplotlib import pyplot as plt\n",
    "from scipy.misc import lena, ascent\n",
    "import numpy as np\n",
    "from PIL import Image\n",
    "from scipy.misc import imread\n",
    "\n",
    "def hist_match(source, template):\n",
    "    \"\"\"\n",
    "    Adjust the pixel values of a grayscale image such that its histogram\n",
    "    matches that of a target image\n",
    "\n",
    "    Arguments:\n",
    "    -----------\n",
    "        source: np.ndarray\n",
    "            Image to transform; the histogram is computed over the flattened\n",
    "            array\n",
    "        template: np.ndarray\n",
    "            Template image; can have different dimensions to source\n",
    "    Returns:\n",
    "    -----------\n",
    "        matched: np.ndarray\n",
    "            The transformed output image\n",
    "    \"\"\"\n",
    "\n",
    "    oldshape = source.shape\n",
    "    source = source.ravel()\n",
    "    template = template.ravel()\n",
    "\n",
    "    # get the set of unique pixel values and their corresponding indices and\n",
    "    # counts\n",
    "    s_values, bin_idx, s_counts = np.unique(source, return_inverse=True,\n",
    "                                            return_counts=True)\n",
    "    t_values, t_counts = np.unique(template, return_counts=True)\n",
    "\n",
    "    # take the cumsum of the counts and normalize by the number of pixels to\n",
    "    # get the empirical cumulative distribution functions for the source and\n",
    "    # template images (maps pixel value --> quantile)\n",
    "    s_quantiles = np.cumsum(s_counts).astype(np.float64)\n",
    "    s_quantiles /= s_quantiles[-1]\n",
    "    t_quantiles = np.cumsum(t_counts).astype(np.float64)\n",
    "    t_quantiles /= t_quantiles[-1]\n",
    "\n",
    "    # interpolate linearly to find the pixel values in the template image\n",
    "    # that correspond most closely to the quantiles in the source image\n",
    "    interp_t_values = np.interp(s_quantiles, t_quantiles, t_values)\n",
    "\n",
    "    return interp_t_values[bin_idx].reshape(oldshape)\n",
    "source = lena()\n",
    "template = ascent()\n",
    "matched = hist_match(source, template)\n",
    "\n"
   ]
  },
  {
   "cell_type": "code",
   "execution_count": 2,
   "metadata": {
    "collapsed": false
   },
   "outputs": [],
   "source": [
    "source  = imread(\"data/source.jpg\")\n",
    "target  = imread(\"data/target.jpg\")"
   ]
  },
  {
   "cell_type": "code",
   "execution_count": 3,
   "metadata": {
    "collapsed": false
   },
   "outputs": [],
   "source": [
    "def flat_color_from_ind(im,ind):\n",
    "    x = np.zeros((im.shape[0], im.shape[1]))\n",
    "    for (i,val1) in enumerate(im):\n",
    "        for (j,val2) in enumerate(val1):\n",
    "            x[i][j] = val2[ind]\n",
    "    return x\n",
    "\n",
    "rs = flat_color_from_ind(source,0)\n",
    "gs = flat_color_from_ind(source,1)\n",
    "bs = flat_color_from_ind(source,2)\n",
    "rt = flat_color_from_ind(target,0)\n",
    "gt = flat_color_from_ind(target,1)\n",
    "bt = flat_color_from_ind(target,2)\n",
    "\n",
    "rm = hist_match(rs, rt)\n",
    "gm = hist_match(gs, gt)\n",
    "bm = hist_match(bs, bt)"
   ]
  },
  {
   "cell_type": "code",
   "execution_count": 30,
   "metadata": {
    "collapsed": false
   },
   "outputs": [],
   "source": [
    "matched_target  = np.zeros((source.shape[0], source.shape[1],3))\n",
    "for i in range(0,matched_target.shape[0]):\n",
    "    for j in range(0,matched_target.shape[1]):\n",
    "        matched_target[i][j] = [int(rm[i][j]),int(bm[i][j]),int(gm[i][j])]"
   ]
  },
  {
   "cell_type": "code",
   "execution_count": 31,
   "metadata": {
    "collapsed": false
   },
   "outputs": [
    {
     "ename": "TypeError",
     "evalue": "Cannot handle this data type",
     "output_type": "error",
     "traceback": [
      "\u001b[0;31m---------------------------------------------------------------------------\u001b[0m",
      "\u001b[0;31mTypeError\u001b[0m                                 Traceback (most recent call last)",
      "\u001b[0;32m<ipython-input-31-790ecb15e688>\u001b[0m in \u001b[0;36m<module>\u001b[0;34m()\u001b[0m\n\u001b[0;32m----> 1\u001b[0;31m \u001b[0mimg\u001b[0m \u001b[0;34m=\u001b[0m \u001b[0mImage\u001b[0m\u001b[0;34m.\u001b[0m\u001b[0mfromarray\u001b[0m\u001b[0;34m(\u001b[0m\u001b[0mmatched_target\u001b[0m\u001b[0;34m)\u001b[0m\u001b[0;34m\u001b[0m\u001b[0m\n\u001b[0m\u001b[1;32m      2\u001b[0m \u001b[0mimg\u001b[0m\u001b[0;34m.\u001b[0m\u001b[0mshow\u001b[0m\u001b[0;34m(\u001b[0m\u001b[0;34m)\u001b[0m\u001b[0;34m\u001b[0m\u001b[0m\n",
      "\u001b[0;32m/usr/local/lib/python2.7/site-packages/PIL/Image.pyc\u001b[0m in \u001b[0;36mfromarray\u001b[0;34m(obj, mode)\u001b[0m\n\u001b[1;32m   2196\u001b[0m         \u001b[0;32mexcept\u001b[0m \u001b[0mKeyError\u001b[0m\u001b[0;34m:\u001b[0m\u001b[0;34m\u001b[0m\u001b[0m\n\u001b[1;32m   2197\u001b[0m             \u001b[0;31m# print(typekey)\u001b[0m\u001b[0;34m\u001b[0m\u001b[0;34m\u001b[0m\u001b[0m\n\u001b[0;32m-> 2198\u001b[0;31m             \u001b[0;32mraise\u001b[0m \u001b[0mTypeError\u001b[0m\u001b[0;34m(\u001b[0m\u001b[0;34m\"Cannot handle this data type\"\u001b[0m\u001b[0;34m)\u001b[0m\u001b[0;34m\u001b[0m\u001b[0m\n\u001b[0m\u001b[1;32m   2199\u001b[0m     \u001b[0;32melse\u001b[0m\u001b[0;34m:\u001b[0m\u001b[0;34m\u001b[0m\u001b[0m\n\u001b[1;32m   2200\u001b[0m         \u001b[0mrawmode\u001b[0m \u001b[0;34m=\u001b[0m \u001b[0mmode\u001b[0m\u001b[0;34m\u001b[0m\u001b[0m\n",
      "\u001b[0;31mTypeError\u001b[0m: Cannot handle this data type"
     ]
    }
   ],
   "source": [
    "img = Image.fromarray(matched_target)\n",
    "img.show()"
   ]
  },
  {
   "cell_type": "code",
   "execution_count": 41,
   "metadata": {
    "collapsed": false
   },
   "outputs": [],
   "source": [
    "img = Image.fromarray(matched_target.astype('uint8'),'RGB')\n",
    "img.show()"
   ]
  },
  {
   "cell_type": "code",
   "execution_count": 42,
   "metadata": {
    "collapsed": false
   },
   "outputs": [],
   "source": [
    "img = Image.fromarray(target,'RGB')\n",
    "img.show()"
   ]
  },
  {
   "cell_type": "code",
   "execution_count": 25,
   "metadata": {
    "collapsed": false
   },
   "outputs": [
    {
     "data": {
      "text/plain": [
       "array([[[  67.84506036,   80.8387047 ,    8.99874506],\n",
       "        [  67.84506036,   80.92301577,    8.99874506],\n",
       "        [  67.84506036,   81.05704634,   12.86136721],\n",
       "        ..., \n",
       "        [  89.27030172,   87.05998671,   54.12546832],\n",
       "        [  89.27030172,   87.05998671,   54.12546832],\n",
       "        [  67.84506036,   87.05998671,   56.34109716]],\n",
       "\n",
       "       [[  67.84506036,   80.8387047 ,    7.8514388 ],\n",
       "        [  67.84506036,   80.92301577,    8.99874506],\n",
       "        [  89.27030172,   81.00596834,   12.86136721],\n",
       "        ..., \n",
       "        [  89.27030172,   87.05998671,   54.12546832],\n",
       "        [  89.27030172,   87.05998671,   54.12546832],\n",
       "        [  67.84506036,   87.05998671,   56.34109716]],\n",
       "\n",
       "       [[  67.84506036,   80.80781847,    5.42203479],\n",
       "        [  67.84506036,   80.88962525,    7.8514388 ],\n",
       "        [  67.84506036,   80.98395348,   11.91799262],\n",
       "        ..., \n",
       "        [  67.84506036,   87.29507307,   58.87266356],\n",
       "        [  67.84506036,   87.29507307,   58.87266356],\n",
       "        [  67.84506036,   87.29507307,   58.87266356]],\n",
       "\n",
       "       ..., \n",
       "       [[ 102.98294331,   75.80682153,   97.7446305 ],\n",
       "        [ 103.33920137,   76.12367633,   99.43369766],\n",
       "        [ 104.16102729,   76.39776654,  102.56254231],\n",
       "        ..., \n",
       "        [ 112.94503961,   60.5298941 ,  109.47291761],\n",
       "        [ 112.61090223,   54.97532342,  109.02236429],\n",
       "        [ 112.28217599,   60.5298941 ,  106.99375313]],\n",
       "\n",
       "       [[ 104.702706  ,   75.08634563,  105.99278982],\n",
       "        [ 104.42188178,   75.08634563,  105.0166106 ],\n",
       "        [ 104.01375059,   73.53198805,  102.56254231],\n",
       "        ..., \n",
       "        [ 112.28217599,   54.97532342,  109.47291761],\n",
       "        [ 111.71385205,   51.16911947,  108.51900644],\n",
       "        [ 109.24901514,   46.06813308,  100.73407162]],\n",
       "\n",
       "       [[ 100.82687177,   44.7724714 ,   88.03144044],\n",
       "        [ 100.73728271,   42.36901544,   87.46494407],\n",
       "        [ 100.65889227,   40.04308977,   86.62737187],\n",
       "        ..., \n",
       "        [ 109.97114914,   53.01765675,  103.07619491],\n",
       "        [ 109.71799393,   51.16911947,  102.56254231],\n",
       "        [ 109.24901514,   53.01765675,  100.73407162]]])"
      ]
     },
     "execution_count": 25,
     "metadata": {},
     "output_type": "execute_result"
    }
   ],
   "source": [
    "matched_target"
   ]
  },
  {
   "cell_type": "code",
   "execution_count": null,
   "metadata": {
    "collapsed": true
   },
   "outputs": [],
   "source": []
  }
 ],
 "metadata": {
  "kernelspec": {
   "display_name": "Python 2",
   "language": "python",
   "name": "python2"
  },
  "language_info": {
   "codemirror_mode": {
    "name": "ipython",
    "version": 2
   },
   "file_extension": ".py",
   "mimetype": "text/x-python",
   "name": "python",
   "nbconvert_exporter": "python",
   "pygments_lexer": "ipython2",
   "version": "2.7.10"
  }
 },
 "nbformat": 4,
 "nbformat_minor": 0
}
