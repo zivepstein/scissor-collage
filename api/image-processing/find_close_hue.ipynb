{
 "cells": [
  {
   "cell_type": "code",
   "execution_count": 113,
   "metadata": {
    "collapsed": true
   },
   "outputs": [],
   "source": [
    "from PIL import Image\n",
    "from sklearn.preprocessing import normalize\n",
    "import numpy as np"
   ]
  },
  {
   "cell_type": "code",
   "execution_count": 114,
   "metadata": {
    "collapsed": false
   },
   "outputs": [],
   "source": [
    "black = Image.open('data/black.png')\n",
    "blue = Image.open('data/blue.png')\n",
    "brown = Image.open('data/brown.png')\n",
    "grey = Image.open('data/grey.png')\n",
    "green = Image.open('data/green.png')\n",
    "pink = Image.open('data/pink.png')\n",
    "purple = Image.open('data/purple.png')\n",
    "teal = Image.open('data/teal.png')\n",
    "white = Image.open('data/white.png')\n",
    "yellow = Image.open('data/yellow.png')\n",
    "raw_spectrum = [black,blue,brown,grey,green,pink,purple,teal,white,yellow]\n",
    "raw_spectrum_map = [\"black\",\"blue\",\"brown\",\"grey\",\"green\",\"pink\",\"purple\",\"teal\",\"white\",\"yellow\"]"
   ]
  },
  {
   "cell_type": "code",
   "execution_count": 115,
   "metadata": {
    "collapsed": false
   },
   "outputs": [],
   "source": [
    "def norm(x):\n",
    "    return x / np.linalg.norm(x)\n",
    "def dist(x,y):\n",
    "    return  sum([abs(a-b) for (a,b) in zip(norm(x.histogram()),norm(y.histogram()))])"
   ]
  },
  {
   "cell_type": "code",
   "execution_count": 116,
   "metadata": {
    "collapsed": false
   },
   "outputs": [],
   "source": [
    "im = Image.open('data/dima.jpg')\n",
    "def find_closest_color(im):\n",
    "    min_distance = float(\"inf\")\n",
    "    ind = 0\n",
    "    for (i,c) in enumerate(raw_spectrum):\n",
    "        d = dist(im,c)\n",
    "        if d < min_distance:\n",
    "            ind = i\n",
    "            min_distance = d \n",
    "    return raw_spectrum_map[ind]"
   ]
  },
  {
   "cell_type": "code",
   "execution_count": 117,
   "metadata": {
    "collapsed": false
   },
   "outputs": [
    {
     "data": {
      "text/plain": [
       "'grey'"
      ]
     },
     "execution_count": 117,
     "metadata": {},
     "output_type": "execute_result"
    }
   ],
   "source": [
    "find_closest_color(im)"
   ]
  },
  {
   "cell_type": "code",
   "execution_count": null,
   "metadata": {
    "collapsed": true
   },
   "outputs": [],
   "source": []
  }
 ],
 "metadata": {
  "kernelspec": {
   "display_name": "Python 2",
   "language": "python",
   "name": "python2"
  },
  "language_info": {
   "codemirror_mode": {
    "name": "ipython",
    "version": 2
   },
   "file_extension": ".py",
   "mimetype": "text/x-python",
   "name": "python",
   "nbconvert_exporter": "python",
   "pygments_lexer": "ipython2",
   "version": "2.7.10"
  }
 },
 "nbformat": 4,
 "nbformat_minor": 0
}
